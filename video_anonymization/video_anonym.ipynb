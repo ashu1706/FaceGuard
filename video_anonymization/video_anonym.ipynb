{
 "cells": [
  {
   "cell_type": "code",
   "execution_count": 2,
   "id": "f23f3cd2-83c6-4d94-8008-be433a61c3e8",
   "metadata": {},
   "outputs": [],
   "source": [
    "import cv2\n",
    "import face_recognition\n",
    "import numpy as np\n",
    "import os\n",
    "from PIL import Image\n",
    "import random\n"
   ]
  },
  {
   "cell_type": "code",
   "execution_count": 3,
   "id": "5ec7913a-85b8-4de5-83e8-72b52a810f97",
   "metadata": {},
   "outputs": [
    {
     "name": "stdout",
     "output_type": "stream",
     "text": [
      "Loaded synthetic faces.\n"
     ]
    }
   ],
   "source": [
    "synthetic_faces = []\n",
    "for i in range(5):\n",
    "    img_path = f\"../face_generation/generated_faces/face_{i}.png\"\n",
    "    img = Image.open(img_path).resize((100, 100))  # resize placeholder\n",
    "    synthetic_faces.append(np.array(img))\n",
    "print(\"Loaded synthetic faces.\")\n"
   ]
  },
  {
   "cell_type": "code",
   "execution_count": 4,
   "id": "52659b24-8190-40d6-8b60-bce17253bc41",
   "metadata": {},
   "outputs": [],
   "source": [
    "video_path = 'input_video.mp4'\n",
    "cap = cv2.VideoCapture(video_path)\n",
    "\n",
    "fps = int(cap.get(cv2.CAP_PROP_FPS))\n",
    "frame_width = int(cap.get(cv2.CAP_PROP_FRAME_WIDTH))\n",
    "frame_height = int(cap.get(cv2.CAP_PROP_FRAME_HEIGHT))\n",
    "\n",
    "out = cv2.VideoWriter('output_video.mp4',\n",
    "                      cv2.VideoWriter_fourcc(*'mp4v'),\n",
    "                      fps,\n",
    "                      (frame_width, frame_height))\n"
   ]
  },
  {
   "cell_type": "code",
   "execution_count": null,
   "id": "32360096-a2c3-45ae-a85e-6b813334aafe",
   "metadata": {},
   "outputs": [],
   "source": [
    "while True:\n",
    "    ret, frame = cap.read()\n",
    "    if not ret:\n",
    "        break\n",
    "\n",
    "    rgb_frame = frame[:, :, ::-1]  # Convert BGR to RGB\n",
    "    face_locations = face_recognition.face_locations(rgb_frame)\n",
    "\n",
    "    for top, right, bottom, left in face_locations:\n",
    "        face_width = right - left\n",
    "        face_height = bottom - top\n",
    "\n",
    "        # Choose a random synthetic face\n",
    "        fake_face = random.choice(synthetic_faces)\n",
    "        fake_face_resized = cv2.resize(fake_face, (face_width, face_height))\n",
    "\n",
    "        # Replace the face in the frame\n",
    "        frame[top:bottom, left:right] = fake_face_resized\n",
    "\n",
    "    out.write(frame)\n",
    "\n",
    "cap.release()\n",
    "out.release()\n",
    "cv2.destroyAllWindows()\n",
    "print(\"Video saved as output_video.mp4\")\n"
   ]
  },
  {
   "cell_type": "code",
   "execution_count": null,
   "id": "f679f644-8fba-4de9-9332-f38d05bfff84",
   "metadata": {},
   "outputs": [],
   "source": []
  }
 ],
 "metadata": {
  "kernelspec": {
   "display_name": "Python 3 (ipykernel)",
   "language": "python",
   "name": "python3"
  },
  "language_info": {
   "codemirror_mode": {
    "name": "ipython",
    "version": 3
   },
   "file_extension": ".py",
   "mimetype": "text/x-python",
   "name": "python",
   "nbconvert_exporter": "python",
   "pygments_lexer": "ipython3",
   "version": "3.12.4"
  }
 },
 "nbformat": 4,
 "nbformat_minor": 5
}
