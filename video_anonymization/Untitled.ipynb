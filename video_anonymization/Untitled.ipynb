{
 "cells": [
  {
   "cell_type": "code",
   "execution_count": 2,
   "id": "3106dcf9-1fc0-4ae5-ad9f-1599100cb2b7",
   "metadata": {},
   "outputs": [],
   "source": [
    "import cv2\n",
    "import numpy as np\n",
    "from PIL import Image\n",
    "import os\n",
    "import random"
   ]
  },
  {
   "cell_type": "code",
   "execution_count": 3,
   "id": "939437d8-4f9f-4495-966c-28afe4085106",
   "metadata": {},
   "outputs": [
    {
     "name": "stdout",
     "output_type": "stream",
     "text": [
      "Loaded 5 synthetic faces.\n"
     ]
    }
   ],
   "source": [
    "synthetic_face_dir = '../face_generation/generated_faces'  # Adjusted path\n",
    "synthetic_faces = []\n",
    "try:\n",
    "    for filename in os.listdir(synthetic_face_dir):\n",
    "        if filename.endswith(('.png', '.jpg', '.jpeg')):\n",
    "            img_path = os.path.join(synthetic_face_dir, filename)\n",
    "            img = Image.open(img_path).convert(\"RGB\")\n",
    "            synthetic_faces.append(np.array(img))\n",
    "    print(f\"Loaded {len(synthetic_faces)} synthetic faces.\")\n",
    "    if not synthetic_faces:\n",
    "        print(\"Warning: No synthetic faces found in the directory.\")\n",
    "except FileNotFoundError:\n",
    "    print(f\"Error: Directory '{synthetic_face_dir}' not found.\")\n",
    "    exit()\n",
    "\n"
   ]
  },
  {
   "cell_type": "code",
   "execution_count": 5,
   "id": "d9075078-1cb9-4c2f-b13e-4a14256d6e5c",
   "metadata": {},
   "outputs": [],
   "source": [
    "video_path = 'input_video.mp4'  # Corrected path: video in the same directory\n",
    "cap = cv2.VideoCapture(video_path)\n",
    "\n",
    "if not cap.isOpened():\n",
    "    print(f\"Error: Could not open video file: {video_path}\")\n",
    "    exit()\n",
    "\n",
    "frame_width = int(cap.get(cv2.CAP_PROP_FRAME_WIDTH))\n",
    "frame_height = int(cap.get(cv2.CAP_PROP_FRAME_HEIGHT))\n",
    "fps = cap.get(cv2.CAP_PROP_FPS)\n",
    "fourcc = cv2.VideoWriter_fourcc(*'mp4v')\n",
    "output_video = cv2.VideoWriter('anonymized_video.mp4', fourcc, fps, (frame_width, frame_height)) # Corrected path: output in the same directory\n"
   ]
  },
  {
   "cell_type": "code",
   "execution_count": 8,
   "id": "3cbda487-d84d-4522-8165-7da5dbc55ad0",
   "metadata": {},
   "outputs": [],
   "source": [
    "face_cascade_path = 'haarcascade_frontalface_default.xml' # Corrected path: Haar cascade in the same directory\n",
    "face_cascade = cv2.CascadeClassifier(face_cascade_path)\n",
    "if face_cascade.empty():\n",
    "    print(\"Error: Haar cascade classifier not loaded.\")\n",
    "    cap.release()\n",
    "    output_video.release()\n",
    "    exit()\n"
   ]
  },
  {
   "cell_type": "code",
   "execution_count": 10,
   "id": "2e715123-5936-441e-8098-a957b0ca2643",
   "metadata": {},
   "outputs": [],
   "source": [
    "while True:\n",
    "    ret, frame = cap.read()\n",
    "    if not ret:\n",
    "        break\n",
    "\n",
    "    gray = cv2.cvtColor(frame, cv2.COLOR_BGR2GRAY)\n",
    "    faces = face_cascade.detectMultiScale(gray, scaleFactor=1.1, minNeighbors=5, minSize=(30, 30))\n",
    "\n",
    "    for (x, y, w, h) in faces:\n",
    "        if synthetic_faces:\n",
    "            random_face = random.choice(synthetic_faces)\n",
    "            resized_face = cv2.resize(random_face, (w, h))\n",
    "            frame[y:y+h, x:x+w] = resized_face\n",
    "\n",
    "    output_video.write(frame)"
   ]
  },
  {
   "cell_type": "code",
   "execution_count": 12,
   "id": "7373d3ee-c999-4a38-ba01-49f595d35b1d",
   "metadata": {},
   "outputs": [
    {
     "name": "stdout",
     "output_type": "stream",
     "text": [
      "Anonymization complete. Output video saved as anonymized_video.mp4\n"
     ]
    }
   ],
   "source": [
    "cap.release()\n",
    "output_video.release()\n",
    "print(\"Anonymization complete. Output video saved as anonymized_video.mp4\")"
   ]
  },
  {
   "cell_type": "code",
   "execution_count": null,
   "id": "6c700747-3639-43d1-9df8-eb8a08b89513",
   "metadata": {},
   "outputs": [],
   "source": []
  }
 ],
 "metadata": {
  "kernelspec": {
   "display_name": "Python 3 (ipykernel)",
   "language": "python",
   "name": "python3"
  },
  "language_info": {
   "codemirror_mode": {
    "name": "ipython",
    "version": 3
   },
   "file_extension": ".py",
   "mimetype": "text/x-python",
   "name": "python",
   "nbconvert_exporter": "python",
   "pygments_lexer": "ipython3",
   "version": "3.12.4"
  }
 },
 "nbformat": 4,
 "nbformat_minor": 5
}
